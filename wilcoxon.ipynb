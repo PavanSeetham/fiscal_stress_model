{
 "cells": [
  {
   "cell_type": "code",
   "execution_count": 1,
   "metadata": {},
   "outputs": [],
   "source": [
    "import pandas as pd \n",
    "import numpy as np\n",
    "import matplotlib.pyplot as plt\n",
    "import seaborn as sns\n",
    "import scipy.stats as sts\n",
    "# from factor_analyzer import FactorAnalyzer\n",
    "from sklearn.linear_model import LogisticRegression\n",
    "from sklearn.linear_model import Lasso"
   ]
  },
  {
   "cell_type": "code",
   "execution_count": 2,
   "metadata": {},
   "outputs": [],
   "source": [
    "data = pd.read_csv(\"MultiStat_project.csv\")"
   ]
  },
  {
   "cell_type": "code",
   "execution_count": 3,
   "metadata": {},
   "outputs": [
    {
     "data": {
      "text/plain": [
       "43"
      ]
     },
     "execution_count": 3,
     "metadata": {},
     "output_type": "execute_result"
    }
   ],
   "source": [
    "# list of countries in the dataset\n",
    "country_lst = data.country.drop_duplicates()\n",
    "len(country_lst)"
   ]
  },
  {
   "cell_type": "markdown",
   "metadata": {},
   "source": [
    "## Wilcoxon Test"
   ]
  },
  {
   "cell_type": "code",
   "execution_count": 4,
   "metadata": {},
   "outputs": [],
   "source": [
    "from itertools import groupby\n",
    "from operator import itemgetter\n",
    "\n",
    "# get index of all the +2 and -2 neighbors of the stress years \n",
    "def get_index_before_after_stress_yr():\n",
    "    for country in country_lst:\n",
    "\n",
    "        index_country_stress = data.loc[(data.country == country) & (data['crisis_next_year'] == 1)].index.tolist()\n",
    "        country_index = data.loc[data.country == country].index.tolist()\n",
    "\n",
    "        ranges =[]\n",
    "\n",
    "        for k,g in groupby(enumerate(index_country_stress),lambda x:x[0]-x[1]):\n",
    "            group = (map(itemgetter(1),g))\n",
    "            group = list(map(int,group))\n",
    "            if len(group) > 1:\n",
    "                ranges.append([group[0],group[-1]])\n",
    "            else:\n",
    "                ranges.append(group[0])\n",
    "\n",
    "        # get +2 and -2 yrs index of the yrs of crisis\n",
    "\n",
    "        for i in ranges:\n",
    "            if type(i) == int:\n",
    "                local_boundary_bef = [j if j in country_index else np.nan for j in list(range(i-1,i+1)) + list(range(i+2,i+4))]\n",
    "\n",
    "            elif type(i) == list:\n",
    "                local_boundary_bef = [j if j in country_index else np.nan for j in list(range(i[0]-1, i[0]+1)) + list(range(i[1]+2,i[1]+4))]\n",
    "            \n",
    "            yield {\n",
    "                \"before 2 yr\": local_boundary_bef[0],\n",
    "                \"before 1 yr\": local_boundary_bef[1],\n",
    "                \"after 1 yr\": local_boundary_bef[2],\n",
    "                \"after 2 yr\": local_boundary_bef[3],\n",
    "            }\n",
    "            \n",
    "            \n",
    "A = get_index_before_after_stress_yr()"
   ]
  },
  {
   "cell_type": "code",
   "execution_count": 5,
   "metadata": {},
   "outputs": [],
   "source": [
    "# get all the indexes in one df\n",
    "neigh_stress_yrs = pd.DataFrame(A)\n",
    "\n",
    "# seperate the indexes into first and second lag yr\n",
    "# this is done so thant when we dropna we can preserve as many datapoints as possible\n",
    "stress_1 = neigh_stress_yrs[[\"before 1 yr\", \"after 1 yr\"]].dropna()\n",
    "stress_2 = neigh_stress_yrs[[\"before 2 yr\", \"after 2 yr\"]].dropna()\n"
   ]
  },
  {
   "cell_type": "markdown",
   "metadata": {},
   "source": [
    "Wilcoxon test for 1 yr before and after stress periods"
   ]
  },
  {
   "cell_type": "code",
   "execution_count": 6,
   "metadata": {},
   "outputs": [],
   "source": [
    "# declaring all covariates for ease\n",
    "varables = ['cpi', 'dyn_gdp', 'dyn_gdp_china',\n",
    "       'dyn_GDP_US', 'interest_rate_US', 'oil_yoy', 'dyn_consum',\n",
    "       'dyn_fx_rate', 'diff_priv_credit_gdp', 'net_lending', 'public_debt',\n",
    "       'interest_on_debt', 'overvaluation', 'ca_balance', 'dyn_fix_cap_form',\n",
    "       'dyn_export_share', 'diff_unempl', 'dyn_prod_dol', 'VIX', 'GDP_per_cap']"
   ]
  },
  {
   "cell_type": "code",
   "execution_count": 7,
   "metadata": {},
   "outputs": [],
   "source": [
    "# fn to the test statistic for each variable \n",
    "def wilcoxon_test(variables, period, df):\n",
    "    for var in variables:\n",
    "        x = data[[var]].iloc[df[f\"before {period} yr\"],:]\n",
    "        # resetting index for use in fn\n",
    "        x.index = [i for i in range(0, len(x))]\n",
    "\n",
    "        y = data[[var]].iloc[df[f\"after {period} yr\"],:]\n",
    "        # resetting index for use in fn\n",
    "        y.index = [i for i in range(0, len(y))]\n",
    "        \n",
    "        yield{\n",
    "            f\"Wilcoxon p values {period}\": sts.wilcoxon(x[var], y = y[var])[1],\n",
    "            f\"Variable {period}\": var\n",
    "        }\n",
    "        "
   ]
  },
  {
   "cell_type": "code",
   "execution_count": 8,
   "metadata": {},
   "outputs": [
    {
     "name": "stderr",
     "output_type": "stream",
     "text": [
      "C:\\Users\\pavan\\anaconda3\\lib\\site-packages\\scipy\\stats\\morestats.py:2967: UserWarning: Exact p-value calculation does not work if there are ties. Switching to normal approximation.\n",
      "  warnings.warn(\"Exact p-value calculation does not work if there are \"\n"
     ]
    }
   ],
   "source": [
    "# Generate Wilcoxon estimates\n",
    "wil_1 = pd.DataFrame(wilcoxon_test(varables, 1, stress_1))\n",
    "wil_2 = pd.DataFrame(wilcoxon_test(varables, 2, stress_2))\n"
   ]
  },
  {
   "cell_type": "code",
   "execution_count": null,
   "metadata": {},
   "outputs": [],
   "source": []
  },
  {
   "cell_type": "code",
   "execution_count": 15,
   "metadata": {},
   "outputs": [
    {
     "data": {
      "text/html": [
       "<div>\n",
       "<style scoped>\n",
       "    .dataframe tbody tr th:only-of-type {\n",
       "        vertical-align: middle;\n",
       "    }\n",
       "\n",
       "    .dataframe tbody tr th {\n",
       "        vertical-align: top;\n",
       "    }\n",
       "\n",
       "    .dataframe thead th {\n",
       "        text-align: right;\n",
       "    }\n",
       "</style>\n",
       "<table border=\"1\" class=\"dataframe\">\n",
       "  <thead>\n",
       "    <tr style=\"text-align: right;\">\n",
       "      <th></th>\n",
       "      <th>Variable 1</th>\n",
       "      <th>Wilcoxon p values 1</th>\n",
       "      <th>Wilcoxon p values 2</th>\n",
       "    </tr>\n",
       "  </thead>\n",
       "  <tbody>\n",
       "    <tr>\n",
       "      <th>0</th>\n",
       "      <td>cpi</td>\n",
       "      <td>0.003690</td>\n",
       "      <td>0.015583</td>\n",
       "    </tr>\n",
       "    <tr>\n",
       "      <th>1</th>\n",
       "      <td>dyn_gdp</td>\n",
       "      <td>0.573546</td>\n",
       "      <td>0.424489</td>\n",
       "    </tr>\n",
       "    <tr>\n",
       "      <th>2</th>\n",
       "      <td>dyn_gdp_china</td>\n",
       "      <td>0.000065</td>\n",
       "      <td>0.002505</td>\n",
       "    </tr>\n",
       "    <tr>\n",
       "      <th>3</th>\n",
       "      <td>dyn_GDP_US</td>\n",
       "      <td>0.837178</td>\n",
       "      <td>0.502840</td>\n",
       "    </tr>\n",
       "    <tr>\n",
       "      <th>4</th>\n",
       "      <td>interest_rate_US</td>\n",
       "      <td>0.000056</td>\n",
       "      <td>0.000007</td>\n",
       "    </tr>\n",
       "    <tr>\n",
       "      <th>5</th>\n",
       "      <td>oil_yoy</td>\n",
       "      <td>0.295841</td>\n",
       "      <td>0.003671</td>\n",
       "    </tr>\n",
       "    <tr>\n",
       "      <th>6</th>\n",
       "      <td>dyn_consum</td>\n",
       "      <td>0.109783</td>\n",
       "      <td>0.482591</td>\n",
       "    </tr>\n",
       "    <tr>\n",
       "      <th>7</th>\n",
       "      <td>dyn_fx_rate</td>\n",
       "      <td>0.906399</td>\n",
       "      <td>0.520182</td>\n",
       "    </tr>\n",
       "    <tr>\n",
       "      <th>8</th>\n",
       "      <td>diff_priv_credit_gdp</td>\n",
       "      <td>0.220972</td>\n",
       "      <td>0.032894</td>\n",
       "    </tr>\n",
       "    <tr>\n",
       "      <th>9</th>\n",
       "      <td>net_lending</td>\n",
       "      <td>0.447624</td>\n",
       "      <td>0.261520</td>\n",
       "    </tr>\n",
       "    <tr>\n",
       "      <th>10</th>\n",
       "      <td>public_debt</td>\n",
       "      <td>0.029936</td>\n",
       "      <td>0.009274</td>\n",
       "    </tr>\n",
       "    <tr>\n",
       "      <th>11</th>\n",
       "      <td>interest_on_debt</td>\n",
       "      <td>0.674563</td>\n",
       "      <td>0.176192</td>\n",
       "    </tr>\n",
       "    <tr>\n",
       "      <th>12</th>\n",
       "      <td>overvaluation</td>\n",
       "      <td>0.135709</td>\n",
       "      <td>0.587927</td>\n",
       "    </tr>\n",
       "    <tr>\n",
       "      <th>13</th>\n",
       "      <td>ca_balance</td>\n",
       "      <td>0.003290</td>\n",
       "      <td>0.000177</td>\n",
       "    </tr>\n",
       "    <tr>\n",
       "      <th>14</th>\n",
       "      <td>dyn_fix_cap_form</td>\n",
       "      <td>0.561440</td>\n",
       "      <td>0.320883</td>\n",
       "    </tr>\n",
       "    <tr>\n",
       "      <th>15</th>\n",
       "      <td>dyn_export_share</td>\n",
       "      <td>0.189087</td>\n",
       "      <td>0.209928</td>\n",
       "    </tr>\n",
       "    <tr>\n",
       "      <th>16</th>\n",
       "      <td>diff_unempl</td>\n",
       "      <td>0.304232</td>\n",
       "      <td>0.149178</td>\n",
       "    </tr>\n",
       "    <tr>\n",
       "      <th>17</th>\n",
       "      <td>dyn_prod_dol</td>\n",
       "      <td>0.189087</td>\n",
       "      <td>0.290223</td>\n",
       "    </tr>\n",
       "    <tr>\n",
       "      <th>18</th>\n",
       "      <td>VIX</td>\n",
       "      <td>0.561393</td>\n",
       "      <td>0.655639</td>\n",
       "    </tr>\n",
       "    <tr>\n",
       "      <th>19</th>\n",
       "      <td>GDP_per_cap</td>\n",
       "      <td>0.035775</td>\n",
       "      <td>0.032894</td>\n",
       "    </tr>\n",
       "  </tbody>\n",
       "</table>\n",
       "</div>"
      ],
      "text/plain": [
       "              Variable 1  Wilcoxon p values 1  Wilcoxon p values 2\n",
       "0                    cpi             0.003690             0.015583\n",
       "1                dyn_gdp             0.573546             0.424489\n",
       "2          dyn_gdp_china             0.000065             0.002505\n",
       "3             dyn_GDP_US             0.837178             0.502840\n",
       "4       interest_rate_US             0.000056             0.000007\n",
       "5                oil_yoy             0.295841             0.003671\n",
       "6             dyn_consum             0.109783             0.482591\n",
       "7            dyn_fx_rate             0.906399             0.520182\n",
       "8   diff_priv_credit_gdp             0.220972             0.032894\n",
       "9            net_lending             0.447624             0.261520\n",
       "10           public_debt             0.029936             0.009274\n",
       "11      interest_on_debt             0.674563             0.176192\n",
       "12         overvaluation             0.135709             0.587927\n",
       "13            ca_balance             0.003290             0.000177\n",
       "14      dyn_fix_cap_form             0.561440             0.320883\n",
       "15      dyn_export_share             0.189087             0.209928\n",
       "16           diff_unempl             0.304232             0.149178\n",
       "17          dyn_prod_dol             0.189087             0.290223\n",
       "18                   VIX             0.561393             0.655639\n",
       "19           GDP_per_cap             0.035775             0.032894"
      ]
     },
     "execution_count": 15,
     "metadata": {},
     "output_type": "execute_result"
    }
   ],
   "source": [
    "# concatinate the two dfs\n",
    "wilcoxon = pd.concat([wil_1, wil_2], axis= 1 )\n",
    "# rearranging columns\n",
    "wilcoxon = wilcoxon[[\"Variable 1\", \"Wilcoxon p values 1\", \"Wilcoxon p values 2\"]]\n",
    "# wilcoxon.to_latex()\n",
    "wilcoxon"
   ]
  },
  {
   "cell_type": "code",
   "execution_count": null,
   "metadata": {},
   "outputs": [],
   "source": [
    "2003 1\n",
    "2004 0\n",
    "\n",
    "2005 1\n",
    "2006 1\n",
    "2007 1\n",
    "\n",
    "2008 0\n",
    "2009 0\n"
   ]
  }
 ],
 "metadata": {
  "interpreter": {
   "hash": "2b77301e2abfec4fdf86484a76ffa02219949a23355844e603e03d95d917c7bd"
  },
  "kernelspec": {
   "display_name": "Python 3.8.8 64-bit ('base': conda)",
   "language": "python",
   "name": "python3"
  },
  "language_info": {
   "codemirror_mode": {
    "name": "ipython",
    "version": 3
   },
   "file_extension": ".py",
   "mimetype": "text/x-python",
   "name": "python",
   "nbconvert_exporter": "python",
   "pygments_lexer": "ipython3",
   "version": "3.8.8"
  },
  "orig_nbformat": 4
 },
 "nbformat": 4,
 "nbformat_minor": 2
}
