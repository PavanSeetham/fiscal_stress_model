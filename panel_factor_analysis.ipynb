{
 "cells": [
  {
   "cell_type": "markdown",
   "metadata": {},
   "source": [
    "# Dynamic Factor Analysis for Stress Period Detection\n",
    "\n",
    "Author: S S K Pavan, Nitin Gautam\n",
    "\n",
    "Roll No. 2020HES7045"
   ]
  },
  {
   "cell_type": "code",
   "execution_count": 11,
   "metadata": {},
   "outputs": [],
   "source": [
    "\n",
    "import types\n",
    "import numpy as np\n",
    "import pandas as pd\n",
    "import statsmodels.api as sm\n",
    "import statsmodels.formula.api as smf\n",
    "from statsmodels.iolib.summary2 import summary_col\n",
    "from statsmodels.tools.eval_measures import rmse\n",
    "\n",
    "\n",
    "import matplotlib.pyplot as plt\n",
    "import seaborn as sns"
   ]
  },
  {
   "cell_type": "code",
   "execution_count": 2,
   "metadata": {},
   "outputs": [],
   "source": [
    "data = pd.read_csv(\"MultiStat_project.csv\")"
   ]
  },
  {
   "cell_type": "code",
   "execution_count": 3,
   "metadata": {},
   "outputs": [],
   "source": [
    "data[\"year\"] = pd.to_datetime(data.year, format = \"%Y\")\n",
    "indexed_data = data.set_index([\"country\", \"year\"], inplace = False)"
   ]
  },
  {
   "cell_type": "code",
   "execution_count": 4,
   "metadata": {},
   "outputs": [
    {
     "data": {
      "text/plain": [
       "43"
      ]
     },
     "execution_count": 4,
     "metadata": {},
     "output_type": "execute_result"
    }
   ],
   "source": [
    "# list of countries in the dataset\n",
    "country_lst = data.country.drop_duplicates()\n",
    "len(country_lst)\n",
    "# we do not have a balanced panel here"
   ]
  },
  {
   "cell_type": "markdown",
   "metadata": {},
   "source": [
    "## Modelling Stratergy\n",
    "\n",
    "For each country we estimate a seperate dynamic factor model. We follow the steps:\n",
    "\n",
    "Step 1:\n",
    "\n",
    "estimating fcators for each country\n",
    "\n",
    "Step 2:\n",
    "\n",
    "taking these factors as panel data, running a logistic regression"
   ]
  },
  {
   "cell_type": "markdown",
   "metadata": {},
   "source": [
    "For each country we esitmate the following set of equations\n",
    "$$\n",
    "Y_{t} = \\Lambda f_{t} + \\epsilon_t \\\\\n",
    "f_{t} = \\beta f_{t-1} + u_t\n",
    "$$\n",
    "\n",
    "1. $Y_t$ contains all the explanatory variables in the dataset\n",
    "2. $\\Lambda$ is the matrix of factor loadings\n",
    "3. $f_t$ is the matrix of the common factors which has a VAR(1) specification \n",
    "4. $u_t$ is the error term which is modelled as iid Multivariate Normal RV \n"
   ]
  },
  {
   "cell_type": "markdown",
   "metadata": {},
   "source": [
    "for each country we estimate $f_{it}$. We stack them for each country\n",
    "\n",
    "### Predicting country Stress using the estimated factors in a logit Model  \n",
    "\n",
    "Now we estimate our logit model which predicts stress:\n",
    "\n",
    "$$\n",
    "stress_{it} = \\gamma f_{it} + stress_{it-1} + \\alpha_{i} + \\phi_{it} \n",
    "$$\n",
    "\n",
    "Where $\\alpha_{i}$ is the country specific fixed effect"
   ]
  },
  {
   "cell_type": "markdown",
   "metadata": {},
   "source": [
    "## Model Specification\n",
    "\n",
    "we need to specify all the details of the specific dynamic factor model that we want to estimate. We need to decide on\n",
    "1. how many factors to include\n",
    "2. which variables load on which factors \n",
    "3. the order of the vector autoregression that the factor evolves according to."
   ]
  },
  {
   "cell_type": "markdown",
   "metadata": {},
   "source": [
    "**Factor specification**\n",
    "\n",
    "we will just choose an ad-hoc structure for the number of factors to estimate:\n",
    "\n",
    "- Two country factors (i.e. factors that load on all variables) that jointly evolve according to a VAR(1)\n",
    "- One group-specific factor (i.e. factors that load only on variables in their group) evlove according to an AR(1)\n",
    "\n",
    "In the `DynamicFactorMQ` model, the basic factor structure is specified using the `factors` argument, which must be one of the following:\n",
    "\n",
    "- An integer, which can be used if one wants to specify only that number of global factors. This only allows a very simple factor specification.\n",
    "- A dictionary with keys equal to observed variable names and values equal to a list of factor names. Note that if this approach is used, the all observed variables must be included in this dictionary.\n",
    "\n",
    "Since we have a complex factor specification we will use the second method and specify our fators in the form of a dictionary.\n",
    "\n",
    "```python\n",
    "factors = {\n",
    "    'Real Personal Income': ['Global', 'Output and Income'],\n",
    "    ...\n",
    "}\n",
    "```"
   ]
  },
  {
   "cell_type": "code",
   "execution_count": 5,
   "metadata": {},
   "outputs": [
    {
     "data": {
      "text/plain": [
       "Index(['Unnamed: 0', 'country', 'year', 'cpi', 'dyn_gdp', 'dyn_gdp_china',\n",
       "       'dyn_GDP_US', 'interest_rate_US', 'oil_yoy', 'dyn_consum',\n",
       "       'diff_priv_credit_gdp', 'net_lending', 'public_debt',\n",
       "       'interest_on_debt', 'overvaluation', 'ca_balance', 'dyn_fix_cap_form',\n",
       "       'dyn_export_share', 'diff_unempl', 'dyn_prod_dol', 'VIX', 'GDP_per_cap',\n",
       "       'developed', 'crisis_next_year', 'crisis_next_period',\n",
       "       'crisis_first_year'],\n",
       "      dtype='object')"
      ]
     },
     "execution_count": 5,
     "metadata": {},
     "output_type": "execute_result"
    }
   ],
   "source": [
    "data.columns"
   ]
  },
  {
   "cell_type": "code",
   "execution_count": 6,
   "metadata": {},
   "outputs": [],
   "source": [
    "factors = {'interest_rate_US': [\"country\", \"Macro\"],\n",
    "            'dyn_GDP_US':      [\"country\", \"Macro\"],\n",
    "            'dyn_gdp_china':   [\"country\", \"Macro\"],\n",
    "            'oil_yoy':         [\"country\", \"Macro\"],\n",
    "            'VIX'    :         [\"country\", \"Macro\"],\n",
    "            'dyn_gdp' :        [\"country\", \"Macro\"],\n",
    "            'GDP_per_cap' :    [\"country\", \"Macro\"],\n",
    "            'overvaluation' :  [\"country\", \"domestic\"],\n",
    "            'ca_balance'    :  [\"country\", \"domestic\"],\n",
    "            'dyn_export_share':[\"country\", \"domestic\"],\n",
    "            'dyn_fix_cap_form':[\"country\", \"domestic\"],\n",
    "            'cpi'             :[\"country\", \"domestic\"],\n",
    "            'dyn_consum'      :[\"country\", \"domestic\"],\n",
    "            'diff_priv_credit_gdp':[\"country\", \"financial\"],\n",
    "            'public_debt'     :[\"country\", \"fiscal\"],\n",
    "            'net_lending'     :[\"country\", \"fiscal\"],\n",
    "            'interest_on_debt':[\"country\", \"fiscal\"],\n",
    "            'diff_unempl'     :[\"country\", \"labor\"],\n",
    "            'dyn_prod_dol'    :[\"country\", \"labor\"]\n",
    "            \n",
    "            }"
   ]
  },
  {
   "cell_type": "markdown",
   "metadata": {},
   "source": [
    "Unemployment rate, change in p.p."
   ]
  },
  {
   "cell_type": "markdown",
   "metadata": {},
   "source": [
    "**Factor multiplicities**\n",
    "\n",
    " `factor_multiplicities` argument allows setting up of multiple factors that evolve together jointly.\n",
    "\n",
    "The `factor_multiplicities` argument we specify a dictionary with keys equal to factor names (from the `factors` argument) and values equal to an integer.\n",
    "\n",
    "Here, we want all of the group factors to be univariate, while we want a bivariate set of global factors. Therefore, we only need to specify the `{'Global': 2}` part, while the rest will be assumed to have multiplicity 1 by default."
   ]
  },
  {
   "cell_type": "code",
   "execution_count": 7,
   "metadata": {},
   "outputs": [],
   "source": [
    "factor_multiplicities = {'country': 2}"
   ]
  },
  {
   "cell_type": "markdown",
   "metadata": {},
   "source": [
    "**Factor orders**\n",
    "\n",
    "We need to specify the lag order of the (vector) autoregressions that govern the dynamics of the factors.\n",
    "\n",
    "The `factor_orders` argument defaults to `1`, but if it is specified then it must be one of the following:\n",
    "\n",
    "- An integer, which can be used if one wants to specify the same order of (vector) autoregression for each factor.\n",
    "- A dictionary with keys equal to factor names (from the `factors` argument) or tuples of factor names and values equal to an integer. Include in this dictionary only the factors that have order greater than 1.\n",
    "\n",
    "Since we are specifying a parsimonious model of VAR(1), we let the value be its default\n"
   ]
  },
  {
   "cell_type": "markdown",
   "metadata": {},
   "source": [
    "**Creating the model**\n",
    "Now that we have a simple factor specification, let us discuss the primary arguments in the `DynamicFactorMQ` model class\n",
    "\n",
    "1. `endog` and `endog_quarterly`\n",
    "\n",
    "   These arguments are used to pass the observed variables to the model. There are two ways to provide the data:\n",
    "   \n",
    "   1. We will pass all of your observed montly variables to the `endog` variable and not include the `endog_quarterly` argument. Our aim is dimesnonality reduction. rather if this was a prediction exercise we would pass the less freq variable that we are predicting into `endog_quarterly`\n",
    "\n",
    "2. `factors`, `factor_orders`, and `factor_multiplicities`\n",
    "\n",
    "3. `idiosyncratic_ar1`\n",
    "\n",
    "   The `DynamicFactorMQ` model allows the idiosyncratic disturbance terms to be modeled as independent AR(1) processes or as iid variables. The default is `idiosyncratic_ar1=True`, which models a AR(1) process for the esrror terms. We set it to `false`. Setting it to True can help in modeling some of the idiosyncratic serial correlation for forecasting.\n"
   ]
  },
  {
   "cell_type": "code",
   "execution_count": 8,
   "metadata": {},
   "outputs": [
    {
     "name": "stderr",
     "output_type": "stream",
     "text": [
      "C:\\Users\\pavan\\anaconda3\\lib\\site-packages\\statsmodels\\tsa\\base\\tsa_model.py:524: ValueWarning: No frequency information was provided, so inferred frequency AS-JAN will be used.\n",
      "  warnings.warn('No frequency information was'\n",
      "C:\\Users\\pavan\\anaconda3\\lib\\site-packages\\statsmodels\\tsa\\base\\tsa_model.py:524: ValueWarning: No frequency information was provided, so inferred frequency AS-JAN will be used.\n",
      "  warnings.warn('No frequency information was'\n",
      "C:\\Users\\pavan\\anaconda3\\lib\\site-packages\\statsmodels\\tsa\\base\\tsa_model.py:524: ValueWarning: No frequency information was provided, so inferred frequency AS-JAN will be used.\n",
      "  warnings.warn('No frequency information was'\n",
      "C:\\Users\\pavan\\anaconda3\\lib\\site-packages\\statsmodels\\tsa\\base\\tsa_model.py:524: ValueWarning: No frequency information was provided, so inferred frequency AS-JAN will be used.\n",
      "  warnings.warn('No frequency information was'\n",
      "C:\\Users\\pavan\\anaconda3\\lib\\site-packages\\statsmodels\\tsa\\statespace\\dynamic_factor_mq.py:2680: UserWarning: EM reached maximum number of iterations (5000), without achieving convergence: llf=-306.14, convergence criterion=2.9351e-06 (while specified tolerance was 1e-06)\n",
      "  warn(f'EM reached maximum number of iterations ({maxiter}),'\n",
      "C:\\Users\\pavan\\anaconda3\\lib\\site-packages\\statsmodels\\tsa\\base\\tsa_model.py:524: ValueWarning: No frequency information was provided, so inferred frequency AS-JAN will be used.\n",
      "  warnings.warn('No frequency information was'\n",
      "C:\\Users\\pavan\\anaconda3\\lib\\site-packages\\statsmodels\\tsa\\base\\tsa_model.py:524: ValueWarning: No frequency information was provided, so inferred frequency AS-JAN will be used.\n",
      "  warnings.warn('No frequency information was'\n",
      "C:\\Users\\pavan\\anaconda3\\lib\\site-packages\\statsmodels\\tsa\\base\\tsa_model.py:524: ValueWarning: No frequency information was provided, so inferred frequency AS-JAN will be used.\n",
      "  warnings.warn('No frequency information was'\n",
      "C:\\Users\\pavan\\anaconda3\\lib\\site-packages\\statsmodels\\tsa\\base\\tsa_model.py:524: ValueWarning: No frequency information was provided, so inferred frequency AS-JAN will be used.\n",
      "  warnings.warn('No frequency information was'\n",
      "C:\\Users\\pavan\\anaconda3\\lib\\site-packages\\statsmodels\\tsa\\statespace\\dynamic_factor_mq.py:2680: UserWarning: EM reached maximum number of iterations (5000), without achieving convergence: llf=-273.21, convergence criterion=1.799e-06 (while specified tolerance was 1e-06)\n",
      "  warn(f'EM reached maximum number of iterations ({maxiter}),'\n",
      "C:\\Users\\pavan\\anaconda3\\lib\\site-packages\\statsmodels\\tsa\\base\\tsa_model.py:524: ValueWarning: No frequency information was provided, so inferred frequency AS-JAN will be used.\n",
      "  warnings.warn('No frequency information was'\n",
      "C:\\Users\\pavan\\anaconda3\\lib\\site-packages\\statsmodels\\tsa\\base\\tsa_model.py:524: ValueWarning: No frequency information was provided, so inferred frequency AS-JAN will be used.\n",
      "  warnings.warn('No frequency information was'\n",
      "C:\\Users\\pavan\\anaconda3\\lib\\site-packages\\statsmodels\\tsa\\base\\tsa_model.py:524: ValueWarning: No frequency information was provided, so inferred frequency AS-JAN will be used.\n",
      "  warnings.warn('No frequency information was'\n",
      "C:\\Users\\pavan\\anaconda3\\lib\\site-packages\\statsmodels\\tsa\\base\\tsa_model.py:524: ValueWarning: No frequency information was provided, so inferred frequency AS-JAN will be used.\n",
      "  warnings.warn('No frequency information was'\n",
      "C:\\Users\\pavan\\anaconda3\\lib\\site-packages\\statsmodels\\tsa\\base\\tsa_model.py:524: ValueWarning: No frequency information was provided, so inferred frequency AS-JAN will be used.\n",
      "  warnings.warn('No frequency information was'\n",
      "C:\\Users\\pavan\\anaconda3\\lib\\site-packages\\statsmodels\\tsa\\base\\tsa_model.py:524: ValueWarning: No frequency information was provided, so inferred frequency AS-JAN will be used.\n",
      "  warnings.warn('No frequency information was'\n",
      "C:\\Users\\pavan\\anaconda3\\lib\\site-packages\\statsmodels\\tsa\\base\\tsa_model.py:524: ValueWarning: No frequency information was provided, so inferred frequency AS-JAN will be used.\n",
      "  warnings.warn('No frequency information was'\n",
      "C:\\Users\\pavan\\anaconda3\\lib\\site-packages\\statsmodels\\tsa\\base\\tsa_model.py:524: ValueWarning: No frequency information was provided, so inferred frequency AS-JAN will be used.\n",
      "  warnings.warn('No frequency information was'\n",
      "C:\\Users\\pavan\\anaconda3\\lib\\site-packages\\statsmodels\\tsa\\base\\tsa_model.py:524: ValueWarning: No frequency information was provided, so inferred frequency AS-JAN will be used.\n",
      "  warnings.warn('No frequency information was'\n",
      "C:\\Users\\pavan\\anaconda3\\lib\\site-packages\\statsmodels\\tsa\\base\\tsa_model.py:524: ValueWarning: No frequency information was provided, so inferred frequency AS-JAN will be used.\n",
      "  warnings.warn('No frequency information was'\n",
      "C:\\Users\\pavan\\anaconda3\\lib\\site-packages\\statsmodels\\tsa\\base\\tsa_model.py:524: ValueWarning: No frequency information was provided, so inferred frequency AS-JAN will be used.\n",
      "  warnings.warn('No frequency information was'\n",
      "C:\\Users\\pavan\\anaconda3\\lib\\site-packages\\statsmodels\\tsa\\base\\tsa_model.py:524: ValueWarning: No frequency information was provided, so inferred frequency AS-JAN will be used.\n",
      "  warnings.warn('No frequency information was'\n",
      "C:\\Users\\pavan\\anaconda3\\lib\\site-packages\\statsmodels\\tsa\\base\\tsa_model.py:524: ValueWarning: No frequency information was provided, so inferred frequency AS-JAN will be used.\n",
      "  warnings.warn('No frequency information was'\n",
      "C:\\Users\\pavan\\anaconda3\\lib\\site-packages\\statsmodels\\tsa\\base\\tsa_model.py:524: ValueWarning: No frequency information was provided, so inferred frequency AS-JAN will be used.\n",
      "  warnings.warn('No frequency information was'\n",
      "C:\\Users\\pavan\\anaconda3\\lib\\site-packages\\statsmodels\\tsa\\base\\tsa_model.py:524: ValueWarning: No frequency information was provided, so inferred frequency AS-JAN will be used.\n",
      "  warnings.warn('No frequency information was'\n",
      "C:\\Users\\pavan\\anaconda3\\lib\\site-packages\\statsmodels\\tsa\\base\\tsa_model.py:524: ValueWarning: No frequency information was provided, so inferred frequency AS-JAN will be used.\n",
      "  warnings.warn('No frequency information was'\n",
      "C:\\Users\\pavan\\anaconda3\\lib\\site-packages\\statsmodels\\tsa\\base\\tsa_model.py:524: ValueWarning: No frequency information was provided, so inferred frequency AS-JAN will be used.\n",
      "  warnings.warn('No frequency information was'\n",
      "C:\\Users\\pavan\\anaconda3\\lib\\site-packages\\statsmodels\\tsa\\base\\tsa_model.py:524: ValueWarning: No frequency information was provided, so inferred frequency AS-JAN will be used.\n",
      "  warnings.warn('No frequency information was'\n",
      "C:\\Users\\pavan\\anaconda3\\lib\\site-packages\\statsmodels\\tsa\\base\\tsa_model.py:524: ValueWarning: No frequency information was provided, so inferred frequency AS-JAN will be used.\n",
      "  warnings.warn('No frequency information was'\n",
      "C:\\Users\\pavan\\anaconda3\\lib\\site-packages\\statsmodels\\tsa\\base\\tsa_model.py:524: ValueWarning: No frequency information was provided, so inferred frequency AS-JAN will be used.\n",
      "  warnings.warn('No frequency information was'\n",
      "C:\\Users\\pavan\\anaconda3\\lib\\site-packages\\statsmodels\\tsa\\base\\tsa_model.py:524: ValueWarning: No frequency information was provided, so inferred frequency AS-JAN will be used.\n",
      "  warnings.warn('No frequency information was'\n",
      "C:\\Users\\pavan\\anaconda3\\lib\\site-packages\\statsmodels\\tsa\\base\\tsa_model.py:524: ValueWarning: No frequency information was provided, so inferred frequency AS-JAN will be used.\n",
      "  warnings.warn('No frequency information was'\n",
      "C:\\Users\\pavan\\anaconda3\\lib\\site-packages\\statsmodels\\tsa\\base\\tsa_model.py:524: ValueWarning: No frequency information was provided, so inferred frequency AS-JAN will be used.\n",
      "  warnings.warn('No frequency information was'\n",
      "C:\\Users\\pavan\\anaconda3\\lib\\site-packages\\statsmodels\\tsa\\statespace\\dynamic_factor_mq.py:2680: UserWarning: EM reached maximum number of iterations (5000), without achieving convergence: llf=-381.26, convergence criterion=1.1984e-06 (while specified tolerance was 1e-06)\n",
      "  warn(f'EM reached maximum number of iterations ({maxiter}),'\n",
      "C:\\Users\\pavan\\anaconda3\\lib\\site-packages\\statsmodels\\tsa\\base\\tsa_model.py:524: ValueWarning: No frequency information was provided, so inferred frequency AS-JAN will be used.\n",
      "  warnings.warn('No frequency information was'\n",
      "C:\\Users\\pavan\\anaconda3\\lib\\site-packages\\statsmodels\\tsa\\base\\tsa_model.py:524: ValueWarning: No frequency information was provided, so inferred frequency AS-JAN will be used.\n",
      "  warnings.warn('No frequency information was'\n",
      "C:\\Users\\pavan\\anaconda3\\lib\\site-packages\\statsmodels\\tsa\\base\\tsa_model.py:524: ValueWarning: No frequency information was provided, so inferred frequency AS-JAN will be used.\n",
      "  warnings.warn('No frequency information was'\n",
      "C:\\Users\\pavan\\anaconda3\\lib\\site-packages\\statsmodels\\tsa\\statespace\\dynamic_factor_mq.py:2680: UserWarning: EM reached maximum number of iterations (5000), without achieving convergence: llf=-182.6, convergence criterion=4.4923e-06 (while specified tolerance was 1e-06)\n",
      "  warn(f'EM reached maximum number of iterations ({maxiter}),'\n",
      "C:\\Users\\pavan\\anaconda3\\lib\\site-packages\\statsmodels\\tsa\\base\\tsa_model.py:524: ValueWarning: No frequency information was provided, so inferred frequency AS-JAN will be used.\n",
      "  warnings.warn('No frequency information was'\n",
      "C:\\Users\\pavan\\anaconda3\\lib\\site-packages\\statsmodels\\tsa\\base\\tsa_model.py:524: ValueWarning: No frequency information was provided, so inferred frequency AS-JAN will be used.\n",
      "  warnings.warn('No frequency information was'\n",
      "C:\\Users\\pavan\\anaconda3\\lib\\site-packages\\statsmodels\\tsa\\base\\tsa_model.py:524: ValueWarning: No frequency information was provided, so inferred frequency AS-JAN will be used.\n",
      "  warnings.warn('No frequency information was'\n",
      "C:\\Users\\pavan\\anaconda3\\lib\\site-packages\\statsmodels\\tsa\\base\\tsa_model.py:524: ValueWarning: No frequency information was provided, so inferred frequency AS-JAN will be used.\n",
      "  warnings.warn('No frequency information was'\n",
      "C:\\Users\\pavan\\anaconda3\\lib\\site-packages\\statsmodels\\tsa\\base\\tsa_model.py:524: ValueWarning: No frequency information was provided, so inferred frequency AS-JAN will be used.\n",
      "  warnings.warn('No frequency information was'\n",
      "C:\\Users\\pavan\\anaconda3\\lib\\site-packages\\statsmodels\\tsa\\base\\tsa_model.py:524: ValueWarning: No frequency information was provided, so inferred frequency AS-JAN will be used.\n",
      "  warnings.warn('No frequency information was'\n",
      "C:\\Users\\pavan\\anaconda3\\lib\\site-packages\\statsmodels\\tsa\\base\\tsa_model.py:524: ValueWarning: No frequency information was provided, so inferred frequency AS-JAN will be used.\n",
      "  warnings.warn('No frequency information was'\n",
      "C:\\Users\\pavan\\anaconda3\\lib\\site-packages\\statsmodels\\tsa\\base\\tsa_model.py:524: ValueWarning: No frequency information was provided, so inferred frequency AS-JAN will be used.\n",
      "  warnings.warn('No frequency information was'\n",
      "C:\\Users\\pavan\\anaconda3\\lib\\site-packages\\statsmodels\\tsa\\base\\tsa_model.py:524: ValueWarning: No frequency information was provided, so inferred frequency AS-JAN will be used.\n",
      "  warnings.warn('No frequency information was'\n"
     ]
    }
   ],
   "source": [
    "# empty list to collect all the estimated factors\n",
    "stress_variables = [] \n",
    "\n",
    "for country in country_lst:\n",
    "    # run the model seperately for each country\n",
    "    model = sm.tsa.DynamicFactorMQ(\n",
    "                                    indexed_data.loc[country, [i for i in factors.keys()]],\n",
    "                                    factors=factors, \n",
    "                                    factor_orders = 1,\n",
    "                                    factor_multiplicities = factor_multiplicities\n",
    "                                    )\n",
    "    # get the results of the estimation\n",
    "    results = model.fit(maxiter = 5000)\n",
    "    # get the factors\n",
    "    fact = results.factors.smoothed\n",
    "    # rename the index for easy concatination\n",
    "    fact.index.name = \"year\"\n",
    "    # add multiindex\n",
    "    indexed_factors = pd.concat({country: fact}, names=['country'])\n",
    "    stress_variables.append(indexed_factors)\n",
    "\n",
    "\n"
   ]
  },
  {
   "cell_type": "code",
   "execution_count": 14,
   "metadata": {},
   "outputs": [],
   "source": [
    "# concat all the factors for individual countries in the list stress_variables \n",
    "all_factors = pd.concat(stress_variables, axis = 0)\n",
    "\n",
    "# concat with the crisis_next_year\n",
    "pred_df = pd.concat([indexed_data.loc[:,[\"crisis_next_year\"]], all_factors], axis= 1)"
   ]
  },
  {
   "cell_type": "code",
   "execution_count": 17,
   "metadata": {},
   "outputs": [],
   "source": [
    "# save file to exccel sheet\n",
    "pred_df.to_excel(\"data_with_factors.xlsx\")"
   ]
  },
  {
   "cell_type": "markdown",
   "metadata": {},
   "source": [
    "## Panel Data Logit"
   ]
  },
  {
   "cell_type": "code",
   "execution_count": 24,
   "metadata": {},
   "outputs": [
    {
     "data": {
      "text/html": [
       "<div>\n",
       "<style scoped>\n",
       "    .dataframe tbody tr th:only-of-type {\n",
       "        vertical-align: middle;\n",
       "    }\n",
       "\n",
       "    .dataframe tbody tr th {\n",
       "        vertical-align: top;\n",
       "    }\n",
       "\n",
       "    .dataframe thead th {\n",
       "        text-align: right;\n",
       "    }\n",
       "</style>\n",
       "<table border=\"1\" class=\"dataframe\">\n",
       "  <thead>\n",
       "    <tr style=\"text-align: right;\">\n",
       "      <th></th>\n",
       "      <th>country</th>\n",
       "      <th>year</th>\n",
       "      <th>crisis_next_year</th>\n",
       "      <th>country.1</th>\n",
       "      <th>country.2</th>\n",
       "      <th>Macro</th>\n",
       "      <th>domestic</th>\n",
       "      <th>fiscal</th>\n",
       "      <th>labor</th>\n",
       "      <th>financial</th>\n",
       "    </tr>\n",
       "  </thead>\n",
       "  <tbody>\n",
       "    <tr>\n",
       "      <th>0</th>\n",
       "      <td>Albania</td>\n",
       "      <td>1997-01-01</td>\n",
       "      <td>1</td>\n",
       "      <td>-3.880345</td>\n",
       "      <td>-0.288062</td>\n",
       "      <td>-1.120430</td>\n",
       "      <td>-0.395629</td>\n",
       "      <td>9.455013</td>\n",
       "      <td>-4.550029</td>\n",
       "      <td>-0.156959</td>\n",
       "    </tr>\n",
       "    <tr>\n",
       "      <th>1</th>\n",
       "      <td>Albania</td>\n",
       "      <td>1998-01-01</td>\n",
       "      <td>0</td>\n",
       "      <td>-3.912228</td>\n",
       "      <td>-0.840525</td>\n",
       "      <td>0.050421</td>\n",
       "      <td>-0.566456</td>\n",
       "      <td>5.909447</td>\n",
       "      <td>0.197792</td>\n",
       "      <td>-0.599430</td>\n",
       "    </tr>\n",
       "    <tr>\n",
       "      <th>2</th>\n",
       "      <td>Albania</td>\n",
       "      <td>1999-01-01</td>\n",
       "      <td>1</td>\n",
       "      <td>-3.167257</td>\n",
       "      <td>-3.903692</td>\n",
       "      <td>-0.001344</td>\n",
       "      <td>0.867782</td>\n",
       "      <td>3.468259</td>\n",
       "      <td>0.599404</td>\n",
       "      <td>-1.288816</td>\n",
       "    </tr>\n",
       "    <tr>\n",
       "      <th>3</th>\n",
       "      <td>Albania</td>\n",
       "      <td>2000-01-01</td>\n",
       "      <td>0</td>\n",
       "      <td>-2.067584</td>\n",
       "      <td>-2.267763</td>\n",
       "      <td>-0.001183</td>\n",
       "      <td>0.889022</td>\n",
       "      <td>2.038466</td>\n",
       "      <td>-1.568611</td>\n",
       "      <td>-0.730585</td>\n",
       "    </tr>\n",
       "    <tr>\n",
       "      <th>4</th>\n",
       "      <td>Albania</td>\n",
       "      <td>2001-01-01</td>\n",
       "      <td>0</td>\n",
       "      <td>-1.344817</td>\n",
       "      <td>-1.779261</td>\n",
       "      <td>0.000037</td>\n",
       "      <td>0.321831</td>\n",
       "      <td>0.603040</td>\n",
       "      <td>0.084477</td>\n",
       "      <td>-0.468229</td>\n",
       "    </tr>\n",
       "  </tbody>\n",
       "</table>\n",
       "</div>"
      ],
      "text/plain": [
       "   country       year  crisis_next_year  country.1  country.2     Macro  \\\n",
       "0  Albania 1997-01-01                 1  -3.880345  -0.288062 -1.120430   \n",
       "1  Albania 1998-01-01                 0  -3.912228  -0.840525  0.050421   \n",
       "2  Albania 1999-01-01                 1  -3.167257  -3.903692 -0.001344   \n",
       "3  Albania 2000-01-01                 0  -2.067584  -2.267763 -0.001183   \n",
       "4  Albania 2001-01-01                 0  -1.344817  -1.779261  0.000037   \n",
       "\n",
       "   domestic    fiscal     labor  financial  \n",
       "0 -0.395629  9.455013 -4.550029  -0.156959  \n",
       "1 -0.566456  5.909447  0.197792  -0.599430  \n",
       "2  0.867782  3.468259  0.599404  -1.288816  \n",
       "3  0.889022  2.038466 -1.568611  -0.730585  \n",
       "4  0.321831  0.603040  0.084477  -0.468229  "
      ]
     },
     "execution_count": 24,
     "metadata": {},
     "output_type": "execute_result"
    }
   ],
   "source": [
    "collapsed = pred_df.reset_index()\n",
    "collapsed.head()"
   ]
  },
  {
   "cell_type": "code",
   "execution_count": 26,
   "metadata": {},
   "outputs": [],
   "source": [
    "collapsed = collapsed.rename(columns = {\"country.1\": \"global_1\",\n",
    "                            \"country.2\": \"global_2\"})"
   ]
  },
  {
   "cell_type": "code",
   "execution_count": 64,
   "metadata": {},
   "outputs": [
    {
     "name": "stdout",
     "output_type": "stream",
     "text": [
      "Optimization terminated successfully.\n",
      "         Current function value: 0.199894\n",
      "         Iterations: 213\n",
      "         Function evaluations: 214\n",
      "         Gradient evaluations: 214\n"
     ]
    }
   ],
   "source": [
    "# run logit regerssion with clustered standard errors\n",
    "formula = \"crisis_next_year ~ crisis_next_year.shift(1) + global_1 + global_2 + Macro + domestic + fiscal + labor + financial + C(country)\"\n",
    "\n",
    "# covariance options abandoned for now\n",
    "cov_options = {'maxlags': 2}\n",
    "logit_model = smf.logit(formula, data = collapsed ).fit(method = \"bfgs\", maxiter=500, cov_type = \"HAC\", cov_kwds = cov_options)"
   ]
  },
  {
   "cell_type": "code",
   "execution_count": 67,
   "metadata": {},
   "outputs": [
    {
     "name": "stdout",
     "output_type": "stream",
     "text": [
      "\\begin{table}\n",
      "\\caption{Logit model using Dynamic fcators}\n",
      "\\label{}\n",
      "\\begin{center}\n",
      "\\begin{tabular}{ll}\n",
      "\\hline\n",
      "                            & stress factors   \\\\\n",
      "\\hline\n",
      "crisis\\_next\\_year.shift(1) & 2.910***         \\\\\n",
      "                            & (0.277)          \\\\\n",
      "global\\_1                   & 0.286***         \\\\\n",
      "                            & (0.063)          \\\\\n",
      "global\\_2                   & 0.008            \\\\\n",
      "                            & (0.071)          \\\\\n",
      "Macro                       & -0.011           \\\\\n",
      "                            & (0.092)          \\\\\n",
      "domestic                    & -0.162           \\\\\n",
      "                            & (0.122)          \\\\\n",
      "fiscal                      & 0.038            \\\\\n",
      "                            & (0.107)          \\\\\n",
      "labor                       & 0.239**          \\\\\n",
      "                            & (0.118)          \\\\\n",
      "Log-likelihood Ratio        & -197.096         \\\\\n",
      "Log-likelihood Null         & -443.716         \\\\\n",
      "Pseudo-R sq                 & 0.556            \\\\\n",
      "No. observations            & 986              \\\\\n",
      "\\hline\n",
      "\\end{tabular}\n",
      "\\end{center}\n",
      "\\end{table}\n"
     ]
    }
   ],
   "source": [
    "info_dict={'Log-likelihood Ratio' : lambda x: f\"{x.llf:.3f}\",\n",
    "           'Log-likelihood Null' : lambda x: f\"{x.llnull:.3f}\",\n",
    "           'Pseudo-R sq' : lambda x: f\"{x.prsquared:.3f}\",\n",
    "           'No. observations' : lambda x: f\"{int(x.nobs):d}\",\n",
    "            }\n",
    "\n",
    "results_table = summary_col(results= [logit_model],\n",
    "                            float_format='%0.3f',\n",
    "                            stars = True,\n",
    "                            model_names=[\"stress factors \"],\n",
    "                            regressor_order= [\"crisis_next_year.shift(1)\" , \"global_1\", \"global_2\", \"Macro\", \"domestic\", \"fiscal\", \"labor\"],\n",
    "                            info_dict=info_dict,\n",
    "                            drop_omitted=  True\n",
    "                            )\n",
    "\n",
    "results_table.add_title(\"Logit model using Dynamic fcators\")\n",
    "\n",
    "print(results_table.as_latex())\n",
    "# print(results_table)"
   ]
  }
 ],
 "metadata": {
  "interpreter": {
   "hash": "2b77301e2abfec4fdf86484a76ffa02219949a23355844e603e03d95d917c7bd"
  },
  "kernelspec": {
   "display_name": "Python 3.8.8 64-bit ('base': conda)",
   "language": "python",
   "name": "python3"
  },
  "language_info": {
   "codemirror_mode": {
    "name": "ipython",
    "version": 3
   },
   "file_extension": ".py",
   "mimetype": "text/x-python",
   "name": "python",
   "nbconvert_exporter": "python",
   "pygments_lexer": "ipython3",
   "version": "3.8.8"
  },
  "orig_nbformat": 4
 },
 "nbformat": 4,
 "nbformat_minor": 2
}
